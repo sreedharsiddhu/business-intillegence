{
 "cells": [
  {
   "cell_type": "code",
   "execution_count": 13,
   "metadata": {},
   "outputs": [
    {
     "name": "stderr",
     "output_type": "stream",
     "text": [
      "<>:13: SyntaxWarning: invalid escape sequence '\\I'\n",
      "<>:14: SyntaxWarning: invalid escape sequence '\\T'\n",
      "<>:13: SyntaxWarning: invalid escape sequence '\\I'\n",
      "<>:14: SyntaxWarning: invalid escape sequence '\\T'\n",
      "C:\\Users\\ronga\\AppData\\Local\\Temp\\ipykernel_20180\\3375974066.py:13: SyntaxWarning: invalid escape sequence '\\I'\n",
      "  file_temp = \"data\\Insect_Caught.csv\"\n",
      "C:\\Users\\ronga\\AppData\\Local\\Temp\\ipykernel_20180\\3375974066.py:14: SyntaxWarning: invalid escape sequence '\\T'\n",
      "  file_humidity = \"data\\Temperature.csv\"\n"
     ]
    },
    {
     "ename": "SyntaxError",
     "evalue": "invalid syntax (3375974066.py, line 33)",
     "output_type": "error",
     "traceback": [
      "\u001b[1;36m  Cell \u001b[1;32mIn[13], line 33\u001b[1;36m\u001b[0m\n\u001b[1;33m    echo \"# business-intillegence\" >> README.md\u001b[0m\n\u001b[1;37m         ^\u001b[0m\n\u001b[1;31mSyntaxError\u001b[0m\u001b[1;31m:\u001b[0m invalid syntax\n"
     ]
    }
   ],
   "source": [
    "import pandas as pd\n",
    "import os\n",
    "\n",
    "# Function to load data\n",
    "def load_data(filepath):\n",
    "    if not os.path.exists(filepath):\n",
    "        raise FileNotFoundError(f\"The file does not exist: {filepath}\")\n",
    "    data = pd.read_csv(filepath)\n",
    "    return data\n",
    "\n",
    "\n",
    "\n",
    "file_temp = \"data\\Insect_Caught.csv\"\n",
    "file_humidity = \"data\\Temperature.csv\"\n",
    "try:\n",
    "    # Check if files exist first\n",
    "    if os.path.exists(file_temp) and os.path.exists(file_humidity):\n",
    "        # Load both files into separate dataframes using the function\n",
    "        df_temp = load_data(file_temp)\n",
    "        df_humidity = load_data(file_humidity)\n",
    "\n",
    "        # Display the first few rows of each dataframe\n",
    "        print(\"Temperature Data:\")\n",
    "        print(df_temp.head())\n",
    "\n",
    "        print(\"\\nHumidity Data:\")\n",
    "        print(df_humidity.head())\n",
    "    else:\n",
    "        print(\"One or both of the files do not exist. Please check the file paths.\")\n",
    "except FileNotFoundError as e:\n",
    "    print(e)\n",
    "\n"
   ]
  }
 ],
 "metadata": {
  "kernelspec": {
   "display_name": "Python 3",
   "language": "python",
   "name": "python3"
  },
  "language_info": {
   "codemirror_mode": {
    "name": "ipython",
    "version": 3
   },
   "file_extension": ".py",
   "mimetype": "text/x-python",
   "name": "python",
   "nbconvert_exporter": "python",
   "pygments_lexer": "ipython3",
   "version": "3.13.0"
  }
 },
 "nbformat": 4,
 "nbformat_minor": 2
}
